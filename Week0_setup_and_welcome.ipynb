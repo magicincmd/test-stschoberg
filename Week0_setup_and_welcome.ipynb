{
  "nbformat": 4,
  "nbformat_minor": 0,
  "metadata": {
    "colab": {
      "name": "Week0_setup_and_welcome.ipynb",
      "provenance": [],
      "authorship_tag": "ABX9TyNOL6D9MCZ6lq5b+15qkW4P",
      "include_colab_link": true
    },
    "kernelspec": {
      "name": "python3",
      "display_name": "Python 3"
    }
  },
  "cells": [
    {
      "cell_type": "markdown",
      "metadata": {
        "id": "view-in-github",
        "colab_type": "text"
      },
      "source": [
        "<a href=\"https://colab.research.google.com/github/magicincmd/test-stschoberg/blob/master/Week0_setup_and_welcome.ipynb\" target=\"_parent\"><img src=\"https://colab.research.google.com/assets/colab-badge.svg\" alt=\"Open In Colab\"/></a>"
      ]
    },
    {
      "cell_type": "markdown",
      "metadata": {
        "id": "6O5LB1-mxls2",
        "colab_type": "text"
      },
      "source": [
        "# Welcome to MAGIC's Big Data Bootcamp"
      ]
    },
    {
      "cell_type": "code",
      "metadata": {
        "id": "8eADypGbxhQe",
        "colab_type": "code",
        "colab": {
          "base_uri": "https://localhost:8080/",
          "height": 34
        },
        "outputId": "c43cf180-522c-493a-c349-bd446576e969"
      },
      "source": [
        "print(\"hello world!\")"
      ],
      "execution_count": 1,
      "outputs": [
        {
          "output_type": "stream",
          "text": [
            "hello world!\n"
          ],
          "name": "stdout"
        }
      ]
    }
  ]
}